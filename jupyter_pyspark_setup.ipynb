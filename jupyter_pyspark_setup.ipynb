{
 "cells": [
  {
   "cell_type": "code",
   "execution_count": 1,
   "metadata": {},
   "outputs": [
    {
     "name": "stdout",
     "output_type": "stream",
     "text": [
      "3.6.4 (set by /home/mapr/.python-version)\n",
      "Requirement already satisfied: jupyter in /home/mapr/.local/lib/python3.6/site-packages\n",
      "Requirement already satisfied: ipywidgets in /home/mapr/.local/lib/python3.6/site-packages (from jupyter)\n",
      "Requirement already satisfied: qtconsole in /home/mapr/.local/lib/python3.6/site-packages (from jupyter)\n",
      "Requirement already satisfied: nbconvert in /home/mapr/.local/lib/python3.6/site-packages (from jupyter)\n",
      "Requirement already satisfied: jupyter-console in /home/mapr/.local/lib/python3.6/site-packages (from jupyter)\n",
      "Requirement already satisfied: ipykernel in /home/mapr/.local/lib/python3.6/site-packages (from jupyter)\n",
      "Requirement already satisfied: notebook in /home/mapr/.local/lib/python3.6/site-packages (from jupyter)\n",
      "Requirement already satisfied: traitlets>=4.3.1 in /home/mapr/.local/lib/python3.6/site-packages (from ipywidgets->jupyter)\n",
      "Requirement already satisfied: widgetsnbextension~=3.4.0 in /home/mapr/.local/lib/python3.6/site-packages (from ipywidgets->jupyter)\n",
      "Requirement already satisfied: nbformat>=4.2.0 in /home/mapr/.local/lib/python3.6/site-packages (from ipywidgets->jupyter)\n",
      "Requirement already satisfied: ipython>=4.0.0; python_version >= \"3.3\" in /home/mapr/.local/lib/python3.6/site-packages (from ipywidgets->jupyter)\n",
      "Requirement already satisfied: jupyter-core in /home/mapr/.local/lib/python3.6/site-packages (from qtconsole->jupyter)\n",
      "Requirement already satisfied: ipython-genutils in /home/mapr/.local/lib/python3.6/site-packages (from qtconsole->jupyter)\n",
      "Requirement already satisfied: jupyter-client>=4.1 in /home/mapr/.local/lib/python3.6/site-packages (from qtconsole->jupyter)\n",
      "Requirement already satisfied: pygments in /home/mapr/.local/lib/python3.6/site-packages (from qtconsole->jupyter)\n",
      "Requirement already satisfied: defusedxml in /home/mapr/.local/lib/python3.6/site-packages (from nbconvert->jupyter)\n",
      "Requirement already satisfied: pandocfilters>=1.4.1 in /home/mapr/.local/lib/python3.6/site-packages (from nbconvert->jupyter)\n",
      "Requirement already satisfied: jinja2>=2.4 in /home/mapr/.local/lib/python3.6/site-packages (from nbconvert->jupyter)\n",
      "Requirement already satisfied: entrypoints>=0.2.2 in /home/mapr/.local/lib/python3.6/site-packages (from nbconvert->jupyter)\n",
      "Requirement already satisfied: testpath in /home/mapr/.local/lib/python3.6/site-packages (from nbconvert->jupyter)\n",
      "Requirement already satisfied: mistune>=0.8.1 in /home/mapr/.local/lib/python3.6/site-packages (from nbconvert->jupyter)\n",
      "Requirement already satisfied: bleach in /home/mapr/.local/lib/python3.6/site-packages (from nbconvert->jupyter)\n",
      "Requirement already satisfied: prompt-toolkit<2.1.0,>=2.0.0 in /home/mapr/.local/lib/python3.6/site-packages (from jupyter-console->jupyter)\n",
      "Requirement already satisfied: tornado>=4.2 in /home/mapr/.local/lib/python3.6/site-packages (from ipykernel->jupyter)\n",
      "Requirement already satisfied: prometheus-client in /home/mapr/.local/lib/python3.6/site-packages (from notebook->jupyter)\n",
      "Requirement already satisfied: terminado>=0.8.1 in /home/mapr/.local/lib/python3.6/site-packages (from notebook->jupyter)\n",
      "Requirement already satisfied: Send2Trash in /home/mapr/.local/lib/python3.6/site-packages (from notebook->jupyter)\n",
      "Requirement already satisfied: pyzmq>=17 in /home/mapr/.local/lib/python3.6/site-packages (from notebook->jupyter)\n",
      "Requirement already satisfied: decorator in /home/mapr/.local/lib/python3.6/site-packages (from traitlets>=4.3.1->ipywidgets->jupyter)\n",
      "Requirement already satisfied: six in /home/mapr/.local/lib/python3.6/site-packages (from traitlets>=4.3.1->ipywidgets->jupyter)\n",
      "Requirement already satisfied: jsonschema!=2.5.0,>=2.4 in /home/mapr/.local/lib/python3.6/site-packages (from nbformat>=4.2.0->ipywidgets->jupyter)\n",
      "Requirement already satisfied: setuptools>=18.5 in /home/mapr/.pyenv/versions/3.6.4/lib/python3.6/site-packages (from ipython>=4.0.0; python_version >= \"3.3\"->ipywidgets->jupyter)\n",
      "Requirement already satisfied: pickleshare in /home/mapr/.local/lib/python3.6/site-packages (from ipython>=4.0.0; python_version >= \"3.3\"->ipywidgets->jupyter)\n",
      "Requirement already satisfied: jedi>=0.10 in /home/mapr/.local/lib/python3.6/site-packages (from ipython>=4.0.0; python_version >= \"3.3\"->ipywidgets->jupyter)\n",
      "Requirement already satisfied: backcall in /home/mapr/.local/lib/python3.6/site-packages (from ipython>=4.0.0; python_version >= \"3.3\"->ipywidgets->jupyter)\n",
      "Requirement already satisfied: pexpect; sys_platform != \"win32\" in /home/mapr/.local/lib/python3.6/site-packages (from ipython>=4.0.0; python_version >= \"3.3\"->ipywidgets->jupyter)\n",
      "Requirement already satisfied: python-dateutil>=2.1 in /home/mapr/.local/lib/python3.6/site-packages (from jupyter-client>=4.1->qtconsole->jupyter)\n",
      "Requirement already satisfied: MarkupSafe>=0.23 in /home/mapr/.local/lib/python3.6/site-packages (from jinja2>=2.4->nbconvert->jupyter)\n",
      "Requirement already satisfied: webencodings in /home/mapr/.local/lib/python3.6/site-packages (from bleach->nbconvert->jupyter)\n",
      "Requirement already satisfied: wcwidth in /home/mapr/.local/lib/python3.6/site-packages (from prompt-toolkit<2.1.0,>=2.0.0->jupyter-console->jupyter)\n",
      "Requirement already satisfied: ptyprocess; os_name != \"nt\" in /home/mapr/.local/lib/python3.6/site-packages (from terminado>=0.8.1->notebook->jupyter)\n",
      "Requirement already satisfied: attrs>=17.4.0 in /home/mapr/.local/lib/python3.6/site-packages (from jsonschema!=2.5.0,>=2.4->nbformat>=4.2.0->ipywidgets->jupyter)\n",
      "Requirement already satisfied: pyrsistent>=0.14.0 in /home/mapr/.local/lib/python3.6/site-packages (from jsonschema!=2.5.0,>=2.4->nbformat>=4.2.0->ipywidgets->jupyter)\n",
      "Requirement already satisfied: parso>=0.3.0 in /home/mapr/.local/lib/python3.6/site-packages (from jedi>=0.10->ipython>=4.0.0; python_version >= \"3.3\"->ipywidgets->jupyter)\n",
      "\u001b[33mYou are using pip version 9.0.1, however version 19.1.1 is available.\n",
      "You should consider upgrading via the 'pip install --upgrade pip' command.\u001b[0m\n"
     ]
    }
   ],
   "source": [
    "#check python version\n",
    "!pyenv version\n",
    "#install jupyter library\n",
    "!pip install jupyter --user"
   ]
  },
  {
   "cell_type": "code",
   "execution_count": 3,
   "metadata": {},
   "outputs": [
    {
     "name": "stdout",
     "output_type": "stream",
     "text": [
      "/opt/mapr/spark/spark-2.3.2\r\n"
     ]
    }
   ],
   "source": [
    "#ensure your SPARK_HOME env variable is set according to you spark installation folder\n",
    "!echo $SPARK_HOME"
   ]
  },
  {
   "cell_type": "code",
   "execution_count": 2,
   "metadata": {},
   "outputs": [
    {
     "name": "stdout",
     "output_type": "stream",
     "text": [
      "[ProfileCreate] Generating default config file: '/home/mapr/.ipython/profile_pyspark/ipython_config.py'\n",
      "[ProfileCreate] Generating default config file: '/home/mapr/.ipython/profile_pyspark/ipython_kernel_config.py'\n"
     ]
    }
   ],
   "source": [
    "!ipython profile create pyspark"
   ]
  },
  {
   "cell_type": "code",
   "execution_count": 4,
   "metadata": {},
   "outputs": [
    {
     "name": "stdout",
     "output_type": "stream",
     "text": [
      "Writing default config to: /home/mapr/.jupyter/jupyter_notebook_config.py\r\n"
     ]
    }
   ],
   "source": [
    "!jupyter notebook --generate-config"
   ]
  },
  {
   "cell_type": "markdown",
   "metadata": {},
   "source": [
    "Create the file ~/.ipython/profile_pyspark/startup/00-pyspark-setup.py as follows.\n",
    "Please adjust according to whatever files you have in your $SPARK_HOME/python/lib folder"
   ]
  },
  {
   "cell_type": "code",
   "execution_count": 2,
   "metadata": {
    "scrolled": true
   },
   "outputs": [
    {
     "name": "stdout",
     "output_type": "stream",
     "text": [
      "import os\r\n",
      "import sys\r\n",
      "spark_home = os.environ.get('SPARK_HOME', None)\r\n",
      "if not spark_home:\r\n",
      "\traise ValueError('SPARK_HOME environment variable is not set')\r\n",
      "sys.path.insert(0, os.path.join(spark_home, 'python'))\r\n",
      "sys.path.insert(0, os.path.join(spark_home, 'python/lib/py4j-0.10.7-src.zip'))\r\n",
      "exec(open(os.path.join(spark_home, 'python/pyspark/shell.py')).read())\r\n"
     ]
    }
   ],
   "source": [
    "!cat ~/.ipython/profile_pyspark/startup/00-pyspark-setup.py"
   ]
  },
  {
   "cell_type": "markdown",
   "metadata": {},
   "source": [
    "Create the file ~/.ipython/profile_default/startup/00-default-setup.py as follows. Please adjust according to whatever files you have in your $SPARK_HOME/python/lib folder"
   ]
  },
  {
   "cell_type": "code",
   "execution_count": 4,
   "metadata": {},
   "outputs": [
    {
     "name": "stdout",
     "output_type": "stream",
     "text": [
      "import os\r\n",
      "import sys\r\n",
      "spark_home = os.environ.get('SPARK_HOME', None)\r\n",
      "if not spark_home:\r\n",
      "   raise ValueError('SPARK_HOME environment variable is not set')\r\n",
      "sys.path.insert(0, os.path.join(spark_home, 'python'))\r\n",
      "sys.path.insert(0, os.path.join(spark_home, 'python/lib/py4j-0.10.7-src.zip'))\r\n"
     ]
    }
   ],
   "source": [
    "!cat ~/.ipython/profile_default/startup/00-default-setup.py"
   ]
  },
  {
   "cell_type": "code",
   "execution_count": 6,
   "metadata": {},
   "outputs": [
    {
     "name": "stdout",
     "output_type": "stream",
     "text": [
      "/home/mapr/.pyenv/versions/3.6.4/bin/python\r\n"
     ]
    }
   ],
   "source": [
    "#to see the path for your python binary\n",
    "!pyenv which python"
   ]
  },
  {
   "cell_type": "code",
   "execution_count": 8,
   "metadata": {},
   "outputs": [
    {
     "name": "stdout",
     "output_type": "stream",
     "text": [
      "{\r\n",
      "\"display_name\": \"pySpark (Spark 2.3.2)\",\r\n",
      "\"language\": \"python\",\r\n",
      "\"argv\": [\r\n",
      "\"/home/mapr/.pyenv/versions/3.6.4/bin/python\",\r\n",
      "\"-m\",\r\n",
      "\"ipykernel\",\r\n",
      "\"-f\",\r\n",
      "\"{connection_file}\"\r\n",
      "],\r\n",
      "\"env\": {\r\n",
      "     \"CAPTURE_STANDARD_OUT\": \"true\",\r\n",
      "     \"CAPTURE_STANDARD_ERR\": \"true\",\r\n",
      "     \"SEND_EMPTY_OUTPUT\": \"false\",\r\n",
      "     \"SPARK_HOME\": \"/opt/mapr/spark/spark-2.3.2\"\r\n",
      " }\r\n",
      "}\r\n"
     ]
    }
   ],
   "source": [
    "#create the file ~/.ipython/kernlers/pyspark/kernel.json as below. \n",
    "#  Adjust according to the path of your python binary etc\n",
    "!cat ~/.ipython/kernels/pyspark/kernel.json"
   ]
  },
  {
   "cell_type": "code",
   "execution_count": 1,
   "metadata": {},
   "outputs": [
    {
     "name": "stdout",
     "output_type": "stream",
     "text": [
      "c.NotebookApp.ip = '10.20.30.66'\r\n"
     ]
    }
   ],
   "source": [
    "#make sure you set your notebook app ip to 0.0.0.0 or your node's IP address\n",
    "# in the file ~/.jupyter/jupyter_notebook_config.py\n",
    "!grep \"c.NotebookApp.ip\" ~/.jupyter/jupyter_notebook_config.py \n"
   ]
  }
 ],
 "metadata": {
  "kernelspec": {
   "display_name": "Python 3",
   "language": "python",
   "name": "python3"
  },
  "language_info": {
   "codemirror_mode": {
    "name": "ipython",
    "version": 3
   },
   "file_extension": ".py",
   "mimetype": "text/x-python",
   "name": "python",
   "nbconvert_exporter": "python",
   "pygments_lexer": "ipython3",
   "version": "3.6.4"
  }
 },
 "nbformat": 4,
 "nbformat_minor": 2
}

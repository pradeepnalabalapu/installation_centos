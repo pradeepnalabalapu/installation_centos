{
 "cells": [
  {
   "cell_type": "code",
   "execution_count": 1,
   "metadata": {},
   "outputs": [
    {
     "name": "stdout",
     "output_type": "stream",
     "text": [
      "NAME              STATUS   ROLES    AGE   VERSION\r\n",
      "psnode66.ps.lab   Ready    master   73m   v1.14.1\r\n",
      "psnode67.ps.lab   Ready    <none>   67m   v1.14.1\r\n",
      "psnode68.ps.lab   Ready    <none>   67m   v1.14.1\r\n"
     ]
    }
   ],
   "source": [
    "!kubectl get nodes"
   ]
  },
  {
   "cell_type": "code",
   "execution_count": 2,
   "metadata": {},
   "outputs": [
    {
     "name": "stdout",
     "output_type": "stream",
     "text": [
      "kubectl run --generator=deployment/apps.v1 is DEPRECATED and will be removed in a future version. Use kubectl run --generator=run-pod/v1 or kubectl create instead.\n",
      "deployment.apps/kubernetes-bootcamp created\n"
     ]
    }
   ],
   "source": [
    "!kubectl run kubernetes-bootcamp --image=gcr.io/google-samples/kubernetes-bootcamp:v1 --port=8080"
   ]
  },
  {
   "cell_type": "code",
   "execution_count": 3,
   "metadata": {},
   "outputs": [
    {
     "name": "stdout",
     "output_type": "stream",
     "text": [
      "NAME                                  READY   STATUS              RESTARTS   AGE\r\n",
      "kubernetes-bootcamp-b94cb9bff-b8xfb   0/1     ContainerCreating   0          13s\r\n"
     ]
    }
   ],
   "source": [
    "!kubectl get pods"
   ]
  },
  {
   "cell_type": "code",
   "execution_count": 4,
   "metadata": {},
   "outputs": [
    {
     "name": "stdout",
     "output_type": "stream",
     "text": [
      "NAME                                  READY   STATUS    RESTARTS   AGE\r\n",
      "kubernetes-bootcamp-b94cb9bff-b8xfb   1/1     Running   0          3m23s\r\n"
     ]
    }
   ],
   "source": [
    "!kubectl get pods"
   ]
  },
  {
   "cell_type": "code",
   "execution_count": 5,
   "metadata": {},
   "outputs": [
    {
     "name": "stdout",
     "output_type": "stream",
     "text": [
      "Name:               kubernetes-bootcamp-b94cb9bff-b8xfb\r\n",
      "Namespace:          default\r\n",
      "Priority:           0\r\n",
      "PriorityClassName:  <none>\r\n",
      "Node:               psnode68.ps.lab/10.20.30.68\r\n",
      "Start Time:         Wed, 17 Apr 2019 11:48:01 -0700\r\n",
      "Labels:             pod-template-hash=b94cb9bff\r\n",
      "                    run=kubernetes-bootcamp\r\n",
      "Annotations:        <none>\r\n",
      "Status:             Running\r\n",
      "IP:                 192.168.2.3\r\n",
      "Controlled By:      ReplicaSet/kubernetes-bootcamp-b94cb9bff\r\n",
      "Containers:\r\n",
      "  kubernetes-bootcamp:\r\n",
      "    Container ID:   docker://df94caee70e1c46ec1a79870f8580461f29c99e6c39e7b3f722706975364d37e\r\n",
      "    Image:          gcr.io/google-samples/kubernetes-bootcamp:v1\r\n",
      "    Image ID:       docker-pullable://gcr.io/google-samples/kubernetes-bootcamp@sha256:0d6b8ee63bb57c5f5b6156f446b3bc3b3c143d233037f3a2f00e279c8fcc64af\r\n",
      "    Port:           8080/TCP\r\n",
      "    Host Port:      0/TCP\r\n",
      "    State:          Running\r\n",
      "      Started:      Wed, 17 Apr 2019 11:48:29 -0700\r\n",
      "    Ready:          True\r\n",
      "    Restart Count:  0\r\n",
      "    Environment:    <none>\r\n",
      "    Mounts:\r\n",
      "      /var/run/secrets/kubernetes.io/serviceaccount from default-token-brl4g (ro)\r\n",
      "Conditions:\r\n",
      "  Type              Status\r\n",
      "  Initialized       True \r\n",
      "  Ready             True \r\n",
      "  ContainersReady   True \r\n",
      "  PodScheduled      True \r\n",
      "Volumes:\r\n",
      "  default-token-brl4g:\r\n",
      "    Type:        Secret (a volume populated by a Secret)\r\n",
      "    SecretName:  default-token-brl4g\r\n",
      "    Optional:    false\r\n",
      "QoS Class:       BestEffort\r\n",
      "Node-Selectors:  <none>\r\n",
      "Tolerations:     node.kubernetes.io/not-ready:NoExecute for 300s\r\n",
      "                 node.kubernetes.io/unreachable:NoExecute for 300s\r\n",
      "Events:\r\n",
      "  Type     Reason                  Age    From                      Message\r\n",
      "  ----     ------                  ----   ----                      -------\r\n",
      "  Normal   Scheduled               3m26s  default-scheduler         Successfully assigned default/kubernetes-bootcamp-b94cb9bff-b8xfb to psnode68.ps.lab\r\n",
      "  Warning  FailedCreatePodSandBox  3m25s  kubelet, psnode68.ps.lab  Failed create pod sandbox: rpc error: code = Unknown desc = failed to set up sandbox container \"177112facc3f0b2e318eba6fcd2cec43faf1772492a8ff03ddcd4c90f66da72e\" network for pod \"kubernetes-bootcamp-b94cb9bff-b8xfb\": NetworkPlugin cni failed to set up pod \"kubernetes-bootcamp-b94cb9bff-b8xfb_default\" network: failed to set bridge addr: could not set bridge's mac: invalid argument\r\n",
      "  Normal   SandboxChanged          3m24s  kubelet, psnode68.ps.lab  Pod sandbox changed, it will be killed and re-created.\r\n",
      "  Normal   Pulling                 3m24s  kubelet, psnode68.ps.lab  Pulling image \"gcr.io/google-samples/kubernetes-bootcamp:v1\"\r\n",
      "  Normal   Pulled                  2m58s  kubelet, psnode68.ps.lab  Successfully pulled image \"gcr.io/google-samples/kubernetes-bootcamp:v1\"\r\n",
      "  Normal   Created                 2m58s  kubelet, psnode68.ps.lab  Created container kubernetes-bootcamp\r\n",
      "  Normal   Started                 2m58s  kubelet, psnode68.ps.lab  Started container kubernetes-bootcamp\r\n"
     ]
    }
   ],
   "source": [
    "!kubectl describe pods"
   ]
  },
  {
   "cell_type": "code",
   "execution_count": 6,
   "metadata": {},
   "outputs": [
    {
     "name": "stdout",
     "output_type": "stream",
     "text": [
      "POD_NAME=kubernetes-bootcamp-b94cb9bff-b8xfb\n"
     ]
    }
   ],
   "source": [
    "%%sh\n",
    "export POD_NAME=$(kubectl get pods -o go-template --template '{{range .items}}{{.metadata.name}}{{\"\\n\"}}{{end}}')\n",
    "echo POD_NAME=${POD_NAME}"
   ]
  },
  {
   "cell_type": "code",
   "execution_count": 7,
   "metadata": {},
   "outputs": [
    {
     "name": "stdout",
     "output_type": "stream",
     "text": [
      "service/kubernetes-bootcamp exposed\r\n"
     ]
    }
   ],
   "source": [
    "#create a service\n",
    "!kubectl expose deployment/kubernetes-bootcamp --type=\"NodePort\" --port 8080"
   ]
  },
  {
   "cell_type": "code",
   "execution_count": 9,
   "metadata": {},
   "outputs": [
    {
     "name": "stdout",
     "output_type": "stream",
     "text": [
      "NAME                  READY   UP-TO-DATE   AVAILABLE   AGE\r\n",
      "kubernetes-bootcamp   1/1     1            1           4m45s\r\n"
     ]
    }
   ],
   "source": [
    "!kubectl get deployments"
   ]
  },
  {
   "cell_type": "code",
   "execution_count": 10,
   "metadata": {},
   "outputs": [
    {
     "name": "stdout",
     "output_type": "stream",
     "text": [
      "NAME                  TYPE        CLUSTER-IP      EXTERNAL-IP   PORT(S)          AGE\r\n",
      "kubernetes            ClusterIP   10.96.0.1       <none>        443/TCP          78m\r\n",
      "kubernetes-bootcamp   NodePort    10.107.224.35   <none>        8080:30484/TCP   70s\r\n"
     ]
    }
   ],
   "source": [
    "!kubectl get services"
   ]
  },
  {
   "cell_type": "code",
   "execution_count": 11,
   "metadata": {},
   "outputs": [
    {
     "name": "stdout",
     "output_type": "stream",
     "text": [
      "Name:                     kubernetes-bootcamp\r\n",
      "Namespace:                default\r\n",
      "Labels:                   run=kubernetes-bootcamp\r\n",
      "Annotations:              <none>\r\n",
      "Selector:                 run=kubernetes-bootcamp\r\n",
      "Type:                     NodePort\r\n",
      "IP:                       10.107.224.35\r\n",
      "Port:                     <unset>  8080/TCP\r\n",
      "TargetPort:               8080/TCP\r\n",
      "NodePort:                 <unset>  30484/TCP\r\n",
      "Endpoints:                192.168.2.3:8080\r\n",
      "Session Affinity:         None\r\n",
      "External Traffic Policy:  Cluster\r\n",
      "Events:                   <none>\r\n"
     ]
    }
   ],
   "source": [
    "!kubectl describe services/kubernetes-bootcamp"
   ]
  },
  {
   "cell_type": "code",
   "execution_count": 17,
   "metadata": {},
   "outputs": [
    {
     "name": "stdout",
     "output_type": "stream",
     "text": [
      "NODE_PORT=30484\n",
      "Hello Kubernetes bootcamp! | Running on: kubernetes-bootcamp-b94cb9bff-b8xfb | v=1\n"
     ]
    },
    {
     "name": "stderr",
     "output_type": "stream",
     "text": [
      "  % Total    % Received % Xferd  Average Speed   Time    Time     Time  Current\n",
      "                                 Dload  Upload   Total   Spent    Left  Speed\n",
      "\r",
      "  0     0    0     0    0     0      0      0 --:--:-- --:--:-- --:--:--     0\r",
      "100    83    0    83    0     0   1397      0 --:--:-- --:--:-- --:--:--  1431\n"
     ]
    }
   ],
   "source": [
    "%%sh\n",
    "export NODE_PORT=$(kubectl get services/kubernetes-bootcamp -o go-template='{{(index .spec.ports 0).nodePort}}')\n",
    "echo NODE_PORT=${NODE_PORT}\n",
    "curl localhost:$NODE_PORT"
   ]
  },
  {
   "cell_type": "code",
   "execution_count": 18,
   "metadata": {},
   "outputs": [
    {
     "name": "stdout",
     "output_type": "stream",
     "text": [
      "NAME                  READY   UP-TO-DATE   AVAILABLE   AGE\r\n",
      "kubernetes-bootcamp   1/1     1            1           20m\r\n"
     ]
    }
   ],
   "source": [
    "!kubectl get deployments"
   ]
  },
  {
   "cell_type": "code",
   "execution_count": 19,
   "metadata": {},
   "outputs": [
    {
     "name": "stdout",
     "output_type": "stream",
     "text": [
      "deployment.extensions/kubernetes-bootcamp scaled\r\n"
     ]
    }
   ],
   "source": [
    "#scale deployments\n",
    "!kubectl scale deployments/kubernetes-bootcamp --replicas=4"
   ]
  },
  {
   "cell_type": "code",
   "execution_count": 20,
   "metadata": {},
   "outputs": [
    {
     "name": "stdout",
     "output_type": "stream",
     "text": [
      "NAME                  READY   UP-TO-DATE   AVAILABLE   AGE\r\n",
      "kubernetes-bootcamp   2/4     4            2           20m\r\n"
     ]
    }
   ],
   "source": [
    "#right after scale command\n",
    "!kubectl get deployments"
   ]
  },
  {
   "cell_type": "code",
   "execution_count": 21,
   "metadata": {},
   "outputs": [
    {
     "name": "stdout",
     "output_type": "stream",
     "text": [
      "NAME                  READY   UP-TO-DATE   AVAILABLE   AGE\r\n",
      "kubernetes-bootcamp   4/4     4            4           21m\r\n"
     ]
    }
   ],
   "source": [
    "# a while later\n",
    "!kubectl get deployments"
   ]
  },
  {
   "cell_type": "code",
   "execution_count": 22,
   "metadata": {},
   "outputs": [
    {
     "name": "stdout",
     "output_type": "stream",
     "text": [
      "NAME                                  READY   STATUS    RESTARTS   AGE   IP            NODE              NOMINATED NODE   READINESS GATES\r\n",
      "kubernetes-bootcamp-b94cb9bff-b8xfb   1/1     Running   0          21m   192.168.2.3   psnode68.ps.lab   <none>           <none>\r\n",
      "kubernetes-bootcamp-b94cb9bff-jcsgk   1/1     Running   0          59s   192.168.1.4   psnode67.ps.lab   <none>           <none>\r\n",
      "kubernetes-bootcamp-b94cb9bff-pwf45   1/1     Running   0          58s   192.168.2.4   psnode68.ps.lab   <none>           <none>\r\n",
      "kubernetes-bootcamp-b94cb9bff-vzrg5   1/1     Running   0          58s   192.168.1.5   psnode67.ps.lab   <none>           <none>\r\n"
     ]
    }
   ],
   "source": [
    "!kubectl get pods -o wide"
   ]
  },
  {
   "cell_type": "code",
   "execution_count": 23,
   "metadata": {},
   "outputs": [
    {
     "name": "stdout",
     "output_type": "stream",
     "text": [
      "Name:                   kubernetes-bootcamp\r\n",
      "Namespace:              default\r\n",
      "CreationTimestamp:      Wed, 17 Apr 2019 11:48:00 -0700\r\n",
      "Labels:                 run=kubernetes-bootcamp\r\n",
      "Annotations:            deployment.kubernetes.io/revision: 1\r\n",
      "Selector:               run=kubernetes-bootcamp\r\n",
      "Replicas:               4 desired | 4 updated | 4 total | 4 available | 0 unavailable\r\n",
      "StrategyType:           RollingUpdate\r\n",
      "MinReadySeconds:        0\r\n",
      "RollingUpdateStrategy:  25% max unavailable, 25% max surge\r\n",
      "Pod Template:\r\n",
      "  Labels:  run=kubernetes-bootcamp\r\n",
      "  Containers:\r\n",
      "   kubernetes-bootcamp:\r\n",
      "    Image:        gcr.io/google-samples/kubernetes-bootcamp:v1\r\n",
      "    Port:         8080/TCP\r\n",
      "    Host Port:    0/TCP\r\n",
      "    Environment:  <none>\r\n",
      "    Mounts:       <none>\r\n",
      "  Volumes:        <none>\r\n",
      "Conditions:\r\n",
      "  Type           Status  Reason\r\n",
      "  ----           ------  ------\r\n",
      "  Progressing    True    NewReplicaSetAvailable\r\n",
      "  Available      True    MinimumReplicasAvailable\r\n",
      "OldReplicaSets:  <none>\r\n",
      "NewReplicaSet:   kubernetes-bootcamp-b94cb9bff (4/4 replicas created)\r\n",
      "Events:\r\n",
      "  Type    Reason             Age   From                   Message\r\n",
      "  ----    ------             ----  ----                   -------\r\n",
      "  Normal  ScalingReplicaSet  22m   deployment-controller  Scaled up replica set kubernetes-bootcamp-b94cb9bff to 1\r\n",
      "  Normal  ScalingReplicaSet  85s   deployment-controller  Scaled up replica set kubernetes-bootcamp-b94cb9bff to 4\r\n"
     ]
    }
   ],
   "source": [
    "!kubectl describe deployments/kubernetes-bootcamp"
   ]
  },
  {
   "cell_type": "code",
   "execution_count": 24,
   "metadata": {},
   "outputs": [
    {
     "name": "stdout",
     "output_type": "stream",
     "text": [
      "Name:                     kubernetes-bootcamp\r\n",
      "Namespace:                default\r\n",
      "Labels:                   run=kubernetes-bootcamp\r\n",
      "Annotations:              <none>\r\n",
      "Selector:                 run=kubernetes-bootcamp\r\n",
      "Type:                     NodePort\r\n",
      "IP:                       10.107.224.35\r\n",
      "Port:                     <unset>  8080/TCP\r\n",
      "TargetPort:               8080/TCP\r\n",
      "NodePort:                 <unset>  30484/TCP\r\n",
      "Endpoints:                192.168.1.4:8080,192.168.1.5:8080,192.168.2.3:8080 + 1 more...\r\n",
      "Session Affinity:         None\r\n",
      "External Traffic Policy:  Cluster\r\n",
      "Events:                   <none>\r\n"
     ]
    }
   ],
   "source": [
    "!kubectl describe services/kubernetes-bootcamp"
   ]
  },
  {
   "cell_type": "code",
   "execution_count": 27,
   "metadata": {},
   "outputs": [
    {
     "name": "stdout",
     "output_type": "stream",
     "text": [
      "NODE_PORT=30484\n",
      "Hello Kubernetes bootcamp! | Running on: kubernetes-bootcamp-b94cb9bff-b8xfb | v=1\n",
      "Hello Kubernetes bootcamp! | Running on: kubernetes-bootcamp-b94cb9bff-vzrg5 | v=1\n",
      "Hello Kubernetes bootcamp! | Running on: kubernetes-bootcamp-b94cb9bff-b8xfb | v=1\n",
      "Hello Kubernetes bootcamp! | Running on: kubernetes-bootcamp-b94cb9bff-vzrg5 | v=1\n",
      "Hello Kubernetes bootcamp! | Running on: kubernetes-bootcamp-b94cb9bff-jcsgk | v=1\n"
     ]
    },
    {
     "name": "stderr",
     "output_type": "stream",
     "text": [
      "  % Total    % Received % Xferd  Average Speed   Time    Time     Time  Current\n",
      "                                 Dload  Upload   Total   Spent    Left  Speed\n",
      "\r",
      "  0     0    0     0    0     0      0      0 --:--:-- --:--:-- --:--:--     0\r",
      "100    83    0    83    0     0   8477      0 --:--:-- --:--:-- --:--:--  9222\n",
      "  % Total    % Received % Xferd  Average Speed   Time    Time     Time  Current\n",
      "                                 Dload  Upload   Total   Spent    Left  Speed\n",
      "\r",
      "  0     0    0     0    0     0      0      0 --:--:-- --:--:-- --:--:--     0\r",
      "100    83    0    83    0     0   1996      0 --:--:-- --:--:-- --:--:--  2024\n",
      "  % Total    % Received % Xferd  Average Speed   Time    Time     Time  Current\n",
      "                                 Dload  Upload   Total   Spent    Left  Speed\n",
      "\r",
      "  0     0    0     0    0     0      0      0 --:--:-- --:--:-- --:--:--     0\r",
      "100    83    0    83    0     0   6861      0 --:--:-- --:--:-- --:--:--  7545\n",
      "  % Total    % Received % Xferd  Average Speed   Time    Time     Time  Current\n",
      "                                 Dload  Upload   Total   Spent    Left  Speed\n",
      "\r",
      "  0     0    0     0    0     0      0      0 --:--:-- --:--:-- --:--:--     0\r",
      "100    83    0    83    0     0   5585      0 --:--:-- --:--:-- --:--:--  5928\n",
      "  % Total    % Received % Xferd  Average Speed   Time    Time     Time  Current\n",
      "                                 Dload  Upload   Total   Spent    Left  Speed\n",
      "\r",
      "  0     0    0     0    0     0      0      0 --:--:-- --:--:-- --:--:--     0\r",
      "100    83    0    83    0     0   1994      0 --:--:-- --:--:-- --:--:--  2024\n"
     ]
    }
   ],
   "source": [
    "%%sh\n",
    "export NODE_PORT=$(kubectl get services/kubernetes-bootcamp -o go-template='{{(index .spec.ports 0).nodePort}}')\n",
    "echo NODE_PORT=$NODE_PORT\n",
    "curl localhost:$NODE_PORT\n",
    "curl localhost:$NODE_PORT\n",
    "curl localhost:$NODE_PORT\n",
    "curl localhost:$NODE_PORT\n",
    "curl localhost:$NODE_PORT"
   ]
  }
 ],
 "metadata": {
  "kernelspec": {
   "display_name": "Python 3",
   "language": "python",
   "name": "python3"
  },
  "language_info": {
   "codemirror_mode": {
    "name": "ipython",
    "version": 3
   },
   "file_extension": ".py",
   "mimetype": "text/x-python",
   "name": "python",
   "nbconvert_exporter": "python",
   "pygments_lexer": "ipython3",
   "version": "3.5.4"
  }
 },
 "nbformat": 4,
 "nbformat_minor": 2
}

{
 "cells": [
  {
   "cell_type": "code",
   "execution_count": 1,
   "metadata": {},
   "outputs": [],
   "source": [
    "%%sh\n",
    "cat <<EOF > kubernetes.repo\n",
    "[kubernetes]\n",
    "name=Kubernetes\n",
    "baseurl=https://packages.cloud.google.com/yum/repos/kubernetes-el7-x86_64\n",
    "enabled=1\n",
    "gpgcheck=1\n",
    "repo_gpgcheck=1\n",
    "gpgkey=https://packages.cloud.google.com/yum/doc/yum-key.gpg https://packages.cloud.google.com/yum/doc/rpm-package-key.gpg\n",
    "exclude=kube*\n",
    "EOF\n"
   ]
  },
  {
   "cell_type": "code",
   "execution_count": 4,
   "metadata": {},
   "outputs": [
    {
     "name": "stdout",
     "output_type": "stream",
     "text": [
      "[sudo] password for mapr: "
     ]
    }
   ],
   "source": [
    "!sudo -S cp kubernetes.repo /etc/yum.repos.d/kubernetes.repo < $HOME/my_password_file"
   ]
  },
  {
   "cell_type": "code",
   "execution_count": 9,
   "metadata": {},
   "outputs": [
    {
     "name": "stdout",
     "output_type": "stream",
     "text": [
      "[sudo] password for mapr: "
     ]
    }
   ],
   "source": [
    "!sudo -S clush -ac /etc/yum.repos.d/kubernetes.repo < $HOME/my_password_file"
   ]
  },
  {
   "cell_type": "code",
   "execution_count": 11,
   "metadata": {},
   "outputs": [
    {
     "name": "stdout",
     "output_type": "stream",
     "text": [
      "[sudo] password for mapr: \u001b[94m---------------\n",
      "10.20.30.[66-68] (3)\n",
      "---------------\u001b[0m\n",
      "setenforce: SELinux is disabled\n",
      "clush: 10.20.30.[66-68] (3): exited with exit code 1\n"
     ]
    }
   ],
   "source": [
    "!sudo -S clush -aB \"setenforce 0\" < $HOME/my_password_file"
   ]
  },
  {
   "cell_type": "code",
   "execution_count": 12,
   "metadata": {},
   "outputs": [
    {
     "name": "stdout",
     "output_type": "stream",
     "text": [
      "\u001b[94m---------------    : [sudo] password for mapr: clush: 0/3 write: 2 B/s\n",
      "10.20.30.66\n",
      "---------------\u001b[0m\n",
      "Loaded plugins: fastestmirror\n",
      "Loading mirror speeds from cached hostfile\n",
      " * base: sjc.edge.kernel.org\n",
      " * epel: mirror.sjc02.svwh.net\n",
      " * extras: mirror.web-ster.com\n",
      " * nux-dextop: mirror.li.nux.ro\n",
      " * updates: repo.ialab.dsu.edu\n",
      "Package kubelet-1.14.1-0.x86_64 already installed and latest version\n",
      "Package kubeadm-1.14.1-0.x86_64 already installed and latest version\n",
      "Package kubectl-1.14.1-0.x86_64 already installed and latest version\n",
      "Nothing to do\n",
      "\u001b[94m---------------\n",
      "10.20.30.67\n",
      "---------------\u001b[0m\n",
      "Loaded plugins: fastestmirror\n",
      "Loading mirror speeds from cached hostfile\n",
      " * base: sjc.edge.kernel.org\n",
      " * epel: mirror.sfo12.us.leaseweb.net\n",
      " * extras: mirror.web-ster.com\n",
      " * updates: mirrors.xmission.com\n",
      "Package kubelet-1.14.1-0.x86_64 already installed and latest version\n",
      "Package kubeadm-1.14.1-0.x86_64 already installed and latest version\n",
      "Package kubectl-1.14.1-0.x86_64 already installed and latest version\n",
      "Nothing to do\n",
      "\u001b[94m---------------\n",
      "10.20.30.68\n",
      "---------------\u001b[0m\n",
      "Loaded plugins: fastestmirror\n",
      "Loading mirror speeds from cached hostfile\n",
      " * base: sjc.edge.kernel.org\n",
      " * epel: mirror.layeronline.com\n",
      " * extras: mirror.san.fastserv.com\n",
      " * updates: mirrors.xmission.com\n",
      "Package kubelet-1.14.1-0.x86_64 already installed and latest version\n",
      "Package kubeadm-1.14.1-0.x86_64 already installed and latest version\n",
      "Package kubectl-1.14.1-0.x86_64 already installed and latest version\n",
      "Nothing to do\n"
     ]
    }
   ],
   "source": [
    "!sudo -S clush -aB \"sed -i 's/^SELINUX=enforcing$/SELINUX=permissive/' /etc/selinux/config\" < $HOME/my_password_file\n",
    "!sudo -S clush -aB \"yum install -y kubelet kubeadm kubectl --disableexcludes=kubernetes\" < $HOME/my_password_file"
   ]
  },
  {
   "cell_type": "code",
   "execution_count": 13,
   "metadata": {},
   "outputs": [
    {
     "name": "stdout",
     "output_type": "stream",
     "text": [
      "[sudo] password for mapr: Created symlink from /etc/systemd/system/multi-user.target.wants/kubelet.service to /usr/lib/systemd/system/kubelet.service.\n"
     ]
    }
   ],
   "source": [
    "!sudo -S systemctl enable --now kubelet < $HOME/my_password_file"
   ]
  },
  {
   "cell_type": "code",
   "execution_count": 16,
   "metadata": {},
   "outputs": [
    {
     "name": "stdout",
     "output_type": "stream",
     "text": [
      "[sudo] password for mapr: \u001b[94m---------------\n",
      "10.20.30.[66-68] (3)\n",
      "---------------\u001b[0m\n",
      "net.bridge.bridge-nf-call-iptables = 1\n"
     ]
    }
   ],
   "source": [
    "#installing a pod network - necessary step for kubeadm\n",
    "#pass ipv4 traffic to iptables' chains\n",
    "!sudo -S clush -aB sysctl net.bridge.bridge-nf-call-iptables=1 < $HOME/my_password_file"
   ]
  },
  {
   "cell_type": "code",
   "execution_count": 28,
   "metadata": {},
   "outputs": [
    {
     "name": "stdout",
     "output_type": "stream",
     "text": [
      "[init] Using Kubernetes version: v1.14.1\n",
      "[preflight] Running pre-flight checks\n",
      "[preflight] Pulling images required for setting up a Kubernetes cluster\n",
      "[preflight] This might take a minute or two, depending on the speed of your internet connection\n",
      "[preflight] You can also perform this action in beforehand using 'kubeadm config images pull'\n",
      "[kubelet-start] Writing kubelet environment file with flags to file \"/var/lib/kubelet/kubeadm-flags.env\"\n",
      "[kubelet-start] Writing kubelet configuration to file \"/var/lib/kubelet/config.yaml\"\n",
      "[kubelet-start] Activating the kubelet service\n",
      "[certs] Using certificateDir folder \"/etc/kubernetes/pki\"\n",
      "[certs] Generating \"etcd/ca\" certificate and key\n",
      "[certs] Generating \"etcd/server\" certificate and key\n",
      "[certs] etcd/server serving cert is signed for DNS names [psnode66.ps.lab localhost] and IPs [10.20.30.66 127.0.0.1 ::1]\n",
      "[certs] Generating \"apiserver-etcd-client\" certificate and key\n",
      "[certs] Generating \"etcd/peer\" certificate and key\n",
      "[certs] etcd/peer serving cert is signed for DNS names [psnode66.ps.lab localhost] and IPs [10.20.30.66 127.0.0.1 ::1]\n",
      "[certs] Generating \"etcd/healthcheck-client\" certificate and key\n",
      "[certs] Generating \"ca\" certificate and key\n",
      "[certs] Generating \"apiserver\" certificate and key\n",
      "[certs] apiserver serving cert is signed for DNS names [psnode66.ps.lab kubernetes kubernetes.default kubernetes.default.svc kubernetes.default.svc.cluster.local] and IPs [10.96.0.1 10.20.30.66]\n",
      "[certs] Generating \"apiserver-kubelet-client\" certificate and key\n",
      "[certs] Generating \"front-proxy-ca\" certificate and key\n",
      "[certs] Generating \"front-proxy-client\" certificate and key\n",
      "[certs] Generating \"sa\" key and public key\n",
      "[kubeconfig] Using kubeconfig folder \"/etc/kubernetes\"\n",
      "[kubeconfig] Writing \"admin.conf\" kubeconfig file\n",
      "[kubeconfig] Writing \"kubelet.conf\" kubeconfig file\n",
      "[kubeconfig] Writing \"controller-manager.conf\" kubeconfig file\n",
      "[kubeconfig] Writing \"scheduler.conf\" kubeconfig file\n",
      "[control-plane] Using manifest folder \"/etc/kubernetes/manifests\"\n",
      "[control-plane] Creating static Pod manifest for \"kube-apiserver\"\n",
      "[control-plane] Creating static Pod manifest for \"kube-controller-manager\"\n",
      "[control-plane] Creating static Pod manifest for \"kube-scheduler\"\n",
      "[etcd] Creating static Pod manifest for local etcd in \"/etc/kubernetes/manifests\"\n",
      "[wait-control-plane] Waiting for the kubelet to boot up the control plane as static Pods from directory \"/etc/kubernetes/manifests\". This can take up to 4m0s\n",
      "[apiclient] All control plane components are healthy after 15.521416 seconds\n",
      "[upload-config] storing the configuration used in ConfigMap \"kubeadm-config\" in the \"kube-system\" Namespace\n",
      "[kubelet] Creating a ConfigMap \"kubelet-config-1.14\" in namespace kube-system with the configuration for the kubelets in the cluster\n",
      "[upload-certs] Skipping phase. Please see --experimental-upload-certs\n",
      "[mark-control-plane] Marking the node psnode66.ps.lab as control-plane by adding the label \"node-role.kubernetes.io/master=''\"\n",
      "[mark-control-plane] Marking the node psnode66.ps.lab as control-plane by adding the taints [node-role.kubernetes.io/master:NoSchedule]\n",
      "[bootstrap-token] Using token: 2ddhcj.uuqqj74jxc5kt5o4\n",
      "[bootstrap-token] Configuring bootstrap tokens, cluster-info ConfigMap, RBAC Roles\n",
      "[bootstrap-token] configured RBAC rules to allow Node Bootstrap tokens to post CSRs in order for nodes to get long term certificate credentials\n",
      "[bootstrap-token] configured RBAC rules to allow the csrapprover controller automatically approve CSRs from a Node Bootstrap Token\n",
      "[bootstrap-token] configured RBAC rules to allow certificate rotation for all node client certificates in the cluster\n",
      "[bootstrap-token] creating the \"cluster-info\" ConfigMap in the \"kube-public\" namespace\n",
      "[addons] Applied essential addon: CoreDNS\n",
      "[addons] Applied essential addon: kube-proxy\n",
      "\n",
      "Your Kubernetes control-plane has initialized successfully!\n",
      "\n",
      "To start using your cluster, you need to run the following as a regular user:\n",
      "\n",
      "  mkdir -p $HOME/.kube\n",
      "  sudo cp -i /etc/kubernetes/admin.conf $HOME/.kube/config\n",
      "  sudo chown $(id -u):$(id -g) $HOME/.kube/config\n",
      "\n",
      "You should now deploy a pod network to the cluster.\n",
      "Run \"kubectl apply -f [podnetwork].yaml\" with one of the options listed at:\n",
      "  https://kubernetes.io/docs/concepts/cluster-administration/addons/\n",
      "\n",
      "Then you can join any number of worker nodes by running the following on each as root:\n",
      "\n",
      "kubeadm join 10.20.30.66:6443 --token 2ddhcj.uuqqj74jxc5kt5o4 \\\n",
      "    --discovery-token-ca-cert-hash sha256:add4bddb1def9394bdc039d64eb767cf01a231650acddb62e895ce807030167c \n",
      "configmap/kube-router-cfg created\n",
      "daemonset.extensions/kube-router created\n",
      "serviceaccount/kube-router created\n",
      "clusterrole.rbac.authorization.k8s.io/kube-router created\n",
      "clusterrolebinding.rbac.authorization.k8s.io/kube-router created\n"
     ]
    },
    {
     "name": "stderr",
     "output_type": "stream",
     "text": [
      "[sudo] password for mapr: "
     ]
    }
   ],
   "source": [
    "%%sh\n",
    "sudo -S kubeadm init < $HOME/my_password_file\n",
    "mkdir -p $HOME/.kube\n",
    "sudo -S cp -f /etc/kubernetes/admin.conf $HOME/.kube/config < $HOME/my_password_file\n",
    "sudo -S chown $(id -u):$(id -g) $HOME/.kube/config < $HOME/my_password_file\n",
    "kubectl apply -f https://raw.githubusercontent.com/cloudnativelabs/kube-router/master/daemonset/kubeadm-kuberouter.yaml\n"
   ]
  },
  {
   "cell_type": "code",
   "execution_count": 30,
   "metadata": {},
   "outputs": [
    {
     "name": "stdout",
     "output_type": "stream",
     "text": [
      "[sudo] password for mapr: [sudo] password for mapr: \u001b[94m---------------\n",
      "10.20.30.[67-68] (2)\n",
      "---------------\u001b[0m\n",
      "Created symlink from /etc/systemd/system/multi-user.target.wants/kubelet.service to /usr/lib/systemd/system/kubelet.service.\n",
      "[sudo] password for mapr: \u001b[94m---------------\n",
      "10.20.30.[67-68] (2)\n",
      "---------------\u001b[0m\n",
      "[preflight] Running pre-flight checks\n",
      "error execution phase preflight: [preflight] Some fatal errors occurred:\n",
      "\t[ERROR FileAvailable--etc-kubernetes-kubelet.conf]: /etc/kubernetes/kubelet.conf already exists\n",
      "\t[ERROR FileAvailable--etc-kubernetes-bootstrap-kubelet.conf]: /etc/kubernetes/bootstrap-kubelet.conf already exists\n",
      "\t[ERROR Port-10250]: Port 10250 is in use\n",
      "\t[ERROR FileAvailable--etc-kubernetes-pki-ca.crt]: /etc/kubernetes/pki/ca.crt already exists\n",
      "[preflight] If you know what you are doing, you can make a check non-fatal with `--ignore-preflight-errors=...`\n",
      "clush: 10.20.30.[67-68] (2): exited with exit code 1\n"
     ]
    }
   ],
   "source": [
    "!sudo -S clush -aB systemctl enable docker.service < $HOME/my_password_file\n",
    "!sudo -S clush -B -g except_current systemctl enable kubelet.service < $HOME/my_password_file\n",
    "!sudo -S clush -B -g except_current kubeadm join 10.20.30.66:6443 --token 2ddhcj.uuqqj74jxc5kt5o4 \\\n",
    "    --discovery-token-ca-cert-hash sha256:add4bddb1def9394bdc039d64eb767cf01a231650acddb62e895ce807030167c < $HOME/my_password_file\n"
   ]
  },
  {
   "cell_type": "code",
   "execution_count": 31,
   "metadata": {},
   "outputs": [
    {
     "name": "stdout",
     "output_type": "stream",
     "text": [
      "NAME              STATUS   ROLES    AGE   VERSION\r\n",
      "psnode66.ps.lab   Ready    master   13m   v1.14.1\r\n",
      "psnode67.ps.lab   Ready    <none>   19s   v1.14.1\r\n",
      "psnode68.ps.lab   Ready    <none>   20s   v1.14.1\r\n"
     ]
    }
   ],
   "source": [
    "!kubectl get nodes"
   ]
  }
 ],
 "metadata": {
  "kernelspec": {
   "display_name": "Python 3",
   "language": "python",
   "name": "python3"
  },
  "language_info": {
   "codemirror_mode": {
    "name": "ipython",
    "version": 3
   },
   "file_extension": ".py",
   "mimetype": "text/x-python",
   "name": "python",
   "nbconvert_exporter": "python",
   "pygments_lexer": "ipython3",
   "version": "3.5.4"
  }
 },
 "nbformat": 4,
 "nbformat_minor": 2
}

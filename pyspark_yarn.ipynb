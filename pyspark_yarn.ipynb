{
 "cells": [
  {
   "cell_type": "code",
   "execution_count": 1,
   "metadata": {},
   "outputs": [],
   "source": [
    "#If we have a pyspark kernel sc gets started at load time\n",
    "# If already have a spark context running we need to stop that \n",
    "if sc :\n",
    "    sc.stop()"
   ]
  },
  {
   "cell_type": "code",
   "execution_count": 2,
   "metadata": {},
   "outputs": [],
   "source": [
    "# This part was copied from $SPARK_HOME/python/pyspark/shell.py\n",
    "# Please make sure $SPARK_HOME is set to the right value on all nodes\n",
    "# sets up some path variables\n",
    "\n",
    "import os\n",
    "import sys\n",
    "import random\n",
    "\n",
    "spark_home = os.environ.get(\"SPARK_HOME\", None)\n",
    "if not spark_home:\n",
    "    raise ValueError('SPARK_HOME environment variable is not set')\n",
    "#add $SPARK_HOME/python and $SPARK_HOME/python/lib/py4j-0.10.7-src.zip to python's sys path\n",
    "#adjust according to what's in your $SPARK_HOME/python/lib\n",
    "sys.path.insert(0,os.path.join(spark_home, 'python'))\n",
    "sys.path.insert(0,os.path.join(spark_home, 'python/lib/py4j-0.10.7-src.zip'))\n"
   ]
  },
  {
   "cell_type": "code",
   "execution_count": 3,
   "metadata": {},
   "outputs": [],
   "source": [
    "from pyspark import SparkConf\n",
    "from pyspark.context import SparkContext\n",
    "from pyspark.sql import SparkSession, SQLContext\n",
    "SparkContext._ensure_initialized()"
   ]
  },
  {
   "cell_type": "code",
   "execution_count": 4,
   "metadata": {},
   "outputs": [],
   "source": [
    "#Please replace the below line with the path to your python executable\n",
    "python_executable=\"/home/mapr/.pyenv/versions/3.5.4/bin/python3\""
   ]
  },
  {
   "cell_type": "code",
   "execution_count": 5,
   "metadata": {},
   "outputs": [],
   "source": [
    "os.environ[\"PYTHONPATH\"] = os.path.join(spark_home,\"python\")\n",
    "os.environ[\"PYSPARK_PYTHON\"] =python_executable"
   ]
  },
  {
   "cell_type": "code",
   "execution_count": 6,
   "metadata": {},
   "outputs": [],
   "source": [
    "#specify spark master mode\n",
    "master = \"yarn\" #\"local[*]\"\n"
   ]
  },
  {
   "cell_type": "code",
   "execution_count": 7,
   "metadata": {},
   "outputs": [],
   "source": [
    "#Creating new sparkConfig and launching new spark context\n",
    "conf = SparkConf()\n",
    "conf.setMaster(master)\n",
    "conf.setExecutorEnv('SPARK_HOME',os.environ['SPARK_HOME'])\n",
    "conf.setExecutorEnv('PYTHONPATH',os.path.join(spark_home,'python'))\n",
    "conf.setExecutorEnv(\"PYSPARK_PYTHON\",python_executable)\n",
    "sc = SparkContext(appName=\"Pi\", conf=conf)"
   ]
  },
  {
   "cell_type": "code",
   "execution_count": 8,
   "metadata": {},
   "outputs": [
    {
     "name": "stdout",
     "output_type": "stream",
     "text": [
      "3.14212\n"
     ]
    }
   ],
   "source": [
    "#application code to test out spark context\n",
    "num_samples = 100000\n",
    "def inside(p):     \n",
    "  x, y = random.random(), random.random()\n",
    "  return x*x + y*y < 1\n",
    "count = sc.parallelize(range(0, num_samples)).filter(inside).count()\n",
    "pi = 4 * count / num_samples\n",
    "print(pi)\n"
   ]
  },
  {
   "cell_type": "code",
   "execution_count": 9,
   "metadata": {},
   "outputs": [
    {
     "name": "stdout",
     "output_type": "stream",
     "text": [
      "Map(psnode66.ps.lab:39998 -> (384093388,384088892), psnode66.ps.lab:35210 -> (956615884,956611388), psnode68.ps.lab:43343 -> (956615884,956611388))\n"
     ]
    }
   ],
   "source": [
    "#printing getExecutorMemoryStatus to show master and workers\n",
    "print(sc._jsc.sc().getExecutorMemoryStatus())"
   ]
  },
  {
   "cell_type": "code",
   "execution_count": 10,
   "metadata": {},
   "outputs": [],
   "source": [
    "sc.stop()"
   ]
  }
 ],
 "metadata": {
  "kernelspec": {
   "display_name": "Python 3",
   "language": "python",
   "name": "python3"
  },
  "language_info": {
   "codemirror_mode": {
    "name": "ipython",
    "version": 3
   },
   "file_extension": ".py",
   "mimetype": "text/x-python",
   "name": "python",
   "nbconvert_exporter": "python",
   "pygments_lexer": "ipython3",
   "version": "3.5.4"
  }
 },
 "nbformat": 4,
 "nbformat_minor": 2
}

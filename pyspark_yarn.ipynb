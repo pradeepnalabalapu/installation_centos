{
 "cells": [
  {
   "cell_type": "code",
   "execution_count": 1,
   "metadata": {},
   "outputs": [
    {
     "name": "stdout",
     "output_type": "stream",
     "text": [
      "import os\r\n",
      "import sys\r\n",
      "spark_home = os.environ.get('SPARK_HOME', None)\r\n",
      "if not spark_home:\r\n",
      "\traise ValueError('SPARK_HOME environment variable is not set')\r\n",
      "sys.path.insert(0, os.path.join(spark_home, 'python'))\r\n",
      "sys.path.insert(0, os.path.join(spark_home, 'python/lib/py4j-0.10.4-src.zip'))\r\n",
      "exec(open(os.path.join(spark_home, 'python/pyspark/shell.py')).read())\r\n"
     ]
    }
   ],
   "source": [
    "!cat ~/.ipython/profile_pyspark/startup/00-pyspark-setup.py "
   ]
  },
  {
   "cell_type": "code",
   "execution_count": 2,
   "metadata": {},
   "outputs": [
    {
     "name": "stdout",
     "output_type": "stream",
     "text": [
      "{\r\n",
      "  \"display_name\": \"pySpark (Spark 2.3.1)\",\r\n",
      "  \"language\": \"python\",\r\n",
      "  \"argv\": [\"python3\", \"-m\", \"ipykernel\", \"-f\", \"{connection_file}\"],\r\n",
      "  \"env\": {\r\n",
      "    \"CAPTURE_STANDARD_OUT\": \"true\",\r\n",
      "    \"CAPTURE_STANDARD_ERR\": \"true\",\r\n",
      "    \"SEND_EMPTY_OUTPUT\": \"false\",\r\n",
      "    \"SPARK_HOME\": \"/opt/mapr/spark/spark-2.3.1\"\r\n",
      "  }\r\n",
      "}\r\n"
     ]
    }
   ],
   "source": [
    "!cat ~/.ipython/kernels/pyspark/kernel.json"
   ]
  },
  {
   "cell_type": "code",
   "execution_count": 3,
   "metadata": {},
   "outputs": [],
   "source": [
    "import pyspark\n",
    "import os\n",
    "import random"
   ]
  },
  {
   "cell_type": "code",
   "execution_count": 4,
   "metadata": {},
   "outputs": [],
   "source": [
    "spark_home = os.environ.get(\"SPARK_HOME\")\n",
    "os.environ[\"PYTHONPATH\"] = os.path.join(spark_home,\"python\")\n",
    "os.environ[\"PYSPARK_PYTHON\"] =\"/home/mapr/.pyenv/versions/3.5.4/bin/python3\""
   ]
  },
  {
   "cell_type": "code",
   "execution_count": null,
   "metadata": {},
   "outputs": [],
   "source": [
    "sc.stop()\n",
    "master = \"yarn\" #\"local[*]\"\n",
    "conf = pyspark.SparkConf()\n",
    "conf.setMaster('yarn-client')\n",
    "conf.setExecutorEnv('SPARK_HOME',os.environ['SPARK_HOME'])\n",
    "conf.setExecutorEnv('PYTHONPATH',os.path.join(spark_home,'python'))\n",
    "conf.setExecutorEnv(\"PYSPARK_PYTHON\",\"/home/mapr/.pyenv/versions/3.5.4/bin/python3\")\n",
    "sc = pyspark.SparkContext(appName=\"Pi\", conf=conf)"
   ]
  },
  {
   "cell_type": "code",
   "execution_count": null,
   "metadata": {},
   "outputs": [],
   "source": [
    "num_samples = 100000\n",
    "def inside(p):     \n",
    "  x, y = random.random(), random.random()\n",
    "  return x*x + y*y < 1\n",
    "count = sc.parallelize(range(0, num_samples)).filter(inside).count()\n",
    "pi = 4 * count / num_samples\n",
    "print(pi)\n"
   ]
  },
  {
   "cell_type": "code",
   "execution_count": null,
   "metadata": {},
   "outputs": [],
   "source": [
    "print(sc._jsc.sc().getExecutorMemoryStatus())"
   ]
  },
  {
   "cell_type": "code",
   "execution_count": null,
   "metadata": {},
   "outputs": [],
   "source": [
    "sc.stop()"
   ]
  }
 ],
 "metadata": {
  "kernelspec": {
   "display_name": "pySpark (Spark 2.3.1)",
   "language": "python",
   "name": "pyspark"
  },
  "language_info": {
   "codemirror_mode": {
    "name": "ipython",
    "version": 3
   },
   "file_extension": ".py",
   "mimetype": "text/x-python",
   "name": "python",
   "nbconvert_exporter": "python",
   "pygments_lexer": "ipython3",
   "version": "3.5.4"
  }
 },
 "nbformat": 4,
 "nbformat_minor": 2
}

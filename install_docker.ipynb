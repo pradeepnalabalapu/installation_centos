{
 "cells": [
  {
   "cell_type": "code",
   "execution_count": 1,
   "metadata": {},
   "outputs": [
    {
     "name": "stdout",
     "output_type": "stream",
     "text": [
      "[sudo] password for mapr: \n"
     ]
    }
   ],
   "source": [
    "#Since we are not invoking interacting shell here, can't enter password for sudo\n",
    "# so doing \"sudo ${command} < $HOME/my_password_file\", but in a shell you can do \"sudo ${command}\"\" directly\n",
    "!sudo clush -ab yum install -y docker < $HOME/my_password_file"
   ]
  },
  {
   "cell_type": "code",
   "execution_count": null,
   "metadata": {},
   "outputs": [],
   "source": [
    "!sudo clush -ab groupadd docker < $HOME/my_password_file\n",
    "!sudo usermod -aG docker mapr < $HOME/my_password_file\n",
    "!sudo clush -ab chgrp docker /var/run/docker.sock < $HOME/my_password_file"
   ]
  },
  {
   "cell_type": "code",
   "execution_count": 2,
   "metadata": {},
   "outputs": [
    {
     "name": "stdout",
     "output_type": "stream",
     "text": [
      "\u001b[94m---------------\n",
      "10.20.30.[66-68] (3)\n",
      "---------------\u001b[0m\n",
      "Client:\n",
      " Version:         1.13.1\n",
      " API version:     1.26\n",
      " Package version: docker-1.13.1-94.gitb2f74b2.el7.centos.x86_64\n",
      " Go version:      go1.10.3\n",
      " Git commit:      b2f74b2/1.13.1\n",
      " Built:           Tue Mar 12 10:27:24 2019\n",
      " OS/Arch:         linux/amd64\n",
      "\n",
      "Server:\n",
      " Version:         1.13.1\n",
      " API version:     1.26 (minimum version 1.12)\n",
      " Package version: docker-1.13.1-94.gitb2f74b2.el7.centos.x86_64\n",
      " Go version:      go1.10.3\n",
      " Git commit:      b2f74b2/1.13.1\n",
      " Built:           Tue Mar 12 10:27:24 2019\n",
      " OS/Arch:         linux/amd64\n",
      " Experimental:    false\n"
     ]
    }
   ],
   "source": [
    "!clush -ab docker version"
   ]
  }
 ],
 "metadata": {
  "kernelspec": {
   "display_name": "Python 3",
   "language": "python",
   "name": "python3"
  },
  "language_info": {
   "codemirror_mode": {
    "name": "ipython",
    "version": 3
   },
   "file_extension": ".py",
   "mimetype": "text/x-python",
   "name": "python",
   "nbconvert_exporter": "python",
   "pygments_lexer": "ipython3",
   "version": "3.5.4"
  }
 },
 "nbformat": 4,
 "nbformat_minor": 2
}

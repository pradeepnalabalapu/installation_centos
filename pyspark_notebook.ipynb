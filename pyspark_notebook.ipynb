{
 "cells": [
  {
   "cell_type": "code",
   "execution_count": null,
   "metadata": {},
   "outputs": [],
   "source": [
    "sc"
   ]
  },
  {
   "cell_type": "code",
   "execution_count": null,
   "metadata": {},
   "outputs": [],
   "source": [
    "spark"
   ]
  },
  {
   "cell_type": "code",
   "execution_count": null,
   "metadata": {},
   "outputs": [],
   "source": [
    "import pyspark"
   ]
  },
  {
   "cell_type": "code",
   "execution_count": null,
   "metadata": {},
   "outputs": [],
   "source": [
    "import os\n",
    "os.environ[\"PYTHONPATH\"]=os.path.join(spark_home,\"python\")+\":\"+os.path.join(spark_home,\"python/lib/py4j-0.10.7-src.zip\")\n",
    "print(os.environ[\"PYTHONPATH\"])\n",
    "os.environ[\"PYSPARK_PYTHON\"]=\"/home/mapr/.pyenv/versions/3.5.4/bin/python3\""
   ]
  },
  {
   "cell_type": "code",
   "execution_count": null,
   "metadata": {},
   "outputs": [],
   "source": [
    "sc.stop()\n",
    "master = \"yarn\" #\"local[*]\"\n",
    "conf = pyspark.SparkConf()\n",
    "conf.setMaster('yarn-client')\n",
    "conf.setExecutorEnv('SPARK_HOME',os.environ['SPARK_HOME'])\n",
    "conf.setExecutorEnv('PYTHONPATH',os.path.join(spark_home,'python'))\n",
    "conf.setExecutorEnv(\"PYSPARK_PYTHON\",\"/home/mapr/.pyenv/versions/3.5.4/bin/python3\")\n",
    "sc = pyspark.SparkContext(appName=\"Pi\", conf=conf)\n"
   ]
  },
  {
   "cell_type": "code",
   "execution_count": null,
   "metadata": {},
   "outputs": [],
   "source": [
    "import random\n",
    "num_samples = 100000\n",
    "def inside(p):     \n",
    "  x, y = random.random(), random.random()\n",
    "  return x*x + y*y < 1\n",
    "count = sc.parallelize(range(0, num_samples)).filter(inside).count()\n",
    "pi = 4 * count / num_samples\n",
    "print(pi)\n",
    "sc.stop()"
   ]
  },
  {
   "cell_type": "code",
   "execution_count": null,
   "metadata": {},
   "outputs": [],
   "source": [
    "sc.stop()"
   ]
  }
 ],
 "metadata": {
  "kernelspec": {
   "display_name": "pySpark (Spark 2.3.1)",
   "language": "python",
   "name": "pyspark"
  },
  "language_info": {
   "codemirror_mode": {
    "name": "ipython",
    "version": 3
   },
   "file_extension": ".py",
   "mimetype": "text/x-python",
   "name": "python",
   "nbconvert_exporter": "python",
   "pygments_lexer": "ipython3",
   "version": "3.5.4"
  }
 },
 "nbformat": 4,
 "nbformat_minor": 2
}
